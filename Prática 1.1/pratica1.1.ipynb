{
 "cells": [
  {
   "cell_type": "markdown",
   "id": "3e14d173",
   "metadata": {},
   "source": [
    "## Prática 1.1 - Classe `ContaBancaria`\n",
    "\n",
    "Considere a classe `ContaBancaria`, para representar uma conta em um banco.\n",
    "\n",
    "Todo objeto da classe `ContaBancaria` deve ter como atributos:\n",
    "- O número da conta\n",
    "- O número da agência\n",
    "- O saldo em reais na conta\n",
    "\n",
    "Como comportamento, toda `ContaBancaria` deve conter:\n",
    "- Um método para realizar um `deposito`, que recebe a quantia a ser depositada como parâmetro. Este método deve checar se o valor passado como parâmetro é válido (maior do que 0) e caso não seja, deve imprimir a mensagem `Valor inválido para depósito.`.\n",
    "- Um método para realizar um `saque`, que recebe a quantia a ser sacada como parâmetro. Este método deve checar se o valor passado como parâmetro é válido (maior do que 0) e caso não seja, deve imprimir a mensagem `Valor inválido para saque.` Além disso, o método também deve checar se há saldo suficiente na conta e caso não haja, imprimir a mensagem `Saldo insuficiente na conta.`\n",
    "- Um método chamado `mesma_agencia`, que recebe um objeto `ContaBancaria` como parâmetro. Este método deve imprimir uma mensagem informando se a conta que chamou o método e a conta contida no parâmetro fazem parte da mesma agência ou não\n",
    "- O método especial `__str__` para imprimir o objeto `ContaBancaria` no formato `Ag: X, conta: Y, saldo: Z`\n",
    "\n",
    "Utilize o código a seguir para testar o seu programa e observe a saída esperada."
   ]
  },
  {
   "cell_type": "code",
   "execution_count": null,
   "id": "d524592c",
   "metadata": {},
   "outputs": [],
   "source": [
    "class ContaBancaria:\n",
    "\n",
    "    # Insira aqui o seu código\n",
    "\n",
    "def main():\n",
    "    c1 = ContaBancaria(100, 2, 1000.0)\n",
    "    c2 = ContaBancaria(200, 8, 500.0)\n",
    "    c3 = ContaBancaria(300, 2, 2000.0)\n",
    "\n",
    "    c1.deposito(-5) # valor inválido para depósito\n",
    "    c1.saque(-5) # valor inválido para saque\n",
    "    print(c1)\n",
    "\n",
    "    c1.deposito(100)\n",
    "    c1.saque(1200) # saldo insuficiente\n",
    "    c1.saque(600)\n",
    "    print(c1)\n",
    "\n",
    "    c1.mesma_agencia(c2) # não têm mesma agência\n",
    "    c1.mesma_agencia(c3) # têm mesma agência\n",
    "\n",
    "if __name__ == '__main__':\n",
    "    main()"
   ]
  },
  {
   "cell_type": "markdown",
   "id": "4c61a768",
   "metadata": {},
   "source": [
    "Saída esperada:\n",
    "\n",
    "```\n",
    "Valor para depósito inválido.\n",
    "Valor inválido para saque.\n",
    "Ag: 2, conta: 100, saldo: R$1000.00\n",
    "Saldo insuficiente na conta.\n",
    "Ag: 2, conta: 100, saldo: R$500.00\n",
    "Contas 100 e 200 não são da mesma agência\n",
    "Contas 100 e 300 são da mesma agência\n",
    "```"
   ]
  }
 ],
 "metadata": {
  "kernelspec": {
   "display_name": "Python 3 (ipykernel)",
   "language": "python",
   "name": "python3"
  },
  "language_info": {
   "codemirror_mode": {
    "name": "ipython",
    "version": 3
   },
   "file_extension": ".py",
   "mimetype": "text/x-python",
   "name": "python",
   "nbconvert_exporter": "python",
   "pygments_lexer": "ipython3",
   "version": "3.9.7"
  }
 },
 "nbformat": 4,
 "nbformat_minor": 5
}
