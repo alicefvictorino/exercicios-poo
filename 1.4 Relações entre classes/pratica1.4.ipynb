{
 "cells": [
  {
   "cell_type": "markdown",
   "id": "d61d50ad",
   "metadata": {},
   "source": [
    "## Prática 1.4: Playlist Musical\n",
    "\n",
    "Desenvolva o diagrama de classes e implemente o sistema proposto a seguir.\n",
    "\n",
    "### Classe `Musica`\n",
    "\n",
    "Atributos:\n",
    "\n",
    "- `artista`, tipo `str`, privado\n",
    "- `titulo`, tipo `str`, privado\n",
    "\n",
    "Métodos:\n",
    "\n",
    "- `__init__`: recebe como parâmetro o artista e o título da música\n",
    "- `__str__`: imprime a música no formato `Artista - Musica`\n",
    "\n",
    "### Classe `Playlist`\n",
    "\n",
    "Atributos:\n",
    "\n",
    "- `musicas`: agregação de objetos da classe `Musica` mantida em uma `list`\n",
    "\n",
    "Métodos:\n",
    "\n",
    "- `__init__`: recebe como parâmetro uma `list` de objetos da classe `Music`\n",
    "- `imprime`: imprime todas as músicas da playlist\n",
    "- `adiciona`: adiciona uma música como última a ser tocada na playlist\n",
    "- `toca_proxima`: toca a próxima música da playlist e a remove da playlist\n",
    "- `embaralha`: embaralha a playlist utilizando a função `shuffle` do módulo `random` da biblioteca padrão\n",
    "\n",
    "Observe na célula a seguir como utilizar o `shuffle`."
   ]
  },
  {
   "cell_type": "code",
   "execution_count": 1,
   "id": "f4cfd151",
   "metadata": {},
   "outputs": [
    {
     "name": "stdout",
     "output_type": "stream",
     "text": [
      "[0, 3, 5, 9, 7, 6, 4, 1, 8, 2]\n"
     ]
    }
   ],
   "source": [
    "import random\n",
    "\n",
    "l = [0,1,2,3,4,5,6,7,8,9]\n",
    "random.shuffle(l) # o shuffle recebe uma lista e a embaralha \"in-place\"\n",
    "print(l)"
   ]
  },
  {
   "cell_type": "markdown",
   "id": "16c95ac8",
   "metadata": {},
   "source": [
    "O código a seguir deve ser utilizado para testar o seu programa.\n",
    "\n",
    "Não serão aceitas soluções que:\n",
    "- Modifiquem o código abaixo\n",
    "- Contenham erro de execução no código abaixo"
   ]
  },
  {
   "cell_type": "code",
   "execution_count": null,
   "id": "bb8e9cac",
   "metadata": {},
   "outputs": [],
   "source": [
    "import random\n",
    "\n",
    "class Musica:\n",
    "    # insira o seu código aqui\n",
    "    \n",
    "class Playlist:\n",
    "    # insira o seu código aqui\n",
    "\n",
    "def main():\n",
    "    \n",
    "    m1 = Musica('Nirvana', 'Smells Like Teen Spirit')\n",
    "    m2 = Musica('Green Day', 'Basket Case')\n",
    "    m3 = Musica('The Offspring', 'Original Prankster')\n",
    "    m4 = Musica('Foo Fighters', 'Everlong')\n",
    "    m5 = Musica('Avril Lavigne', 'Skater Boy')\n",
    "    m6 = Musica('Papa Roach', 'Last Resort')\n",
    "    musicas = [m1, m2, m3]\n",
    "\n",
    "    pl = Playlist(musicas)\n",
    "    pl.imprime()\n",
    "\n",
    "    pl.adiciona(m4)\n",
    "    pl.imprime()\n",
    "\n",
    "    pl.toca_proxima()\n",
    "    pl.toca_proxima()\n",
    "    pl.imprime()\n",
    "\n",
    "    pl.adiciona(m5)\n",
    "    pl.adiciona(m6)\n",
    "    pl.embaralha()\n",
    "    pl.imprime()\n",
    "\n",
    "if __name__ == '__main__':\n",
    "\n",
    "    main()"
   ]
  },
  {
   "cell_type": "markdown",
   "id": "a3599a09",
   "metadata": {},
   "source": [
    "Saída esperada: \n",
    "\n",
    "```\n",
    "----------------\n",
    "Nirvana - Smells Like Teen Spirit\n",
    "Green Day - Basket Case\n",
    "The Offspring - Original Prankster\n",
    "----------------\n",
    "----------------\n",
    "Nirvana - Smells Like Teen Spirit\n",
    "Green Day - Basket Case\n",
    "The Offspring - Original Prankster\n",
    "Foo Fighters - Everlong\n",
    "----------------\n",
    "Tocando agora: Nirvana - Smells Like Teen Spirit\n",
    "Tocando agora: Green Day - Basket Case\n",
    "----------------\n",
    "The Offspring - Original Prankster\n",
    "Foo Fighters - Everlong\n",
    "----------------\n",
    "\n",
    "# !!! Por causa do random, a sua saída pode ser diferente desta\n",
    "----------------\n",
    "Avril Lavigne - Skater Boy \n",
    "Papa Roach - Last Resort\n",
    "Foo Fighters - Everlong\n",
    "The Offspring - Original Prankster\n",
    "----------------\n",
    "```"
   ]
  },
  {
   "cell_type": "code",
   "execution_count": null,
   "id": "fe67520c",
   "metadata": {},
   "outputs": [],
   "source": []
  }
 ],
 "metadata": {
  "kernelspec": {
   "display_name": "Python 3 (ipykernel)",
   "language": "python",
   "name": "python3"
  },
  "language_info": {
   "codemirror_mode": {
    "name": "ipython",
    "version": 3
   },
   "file_extension": ".py",
   "mimetype": "text/x-python",
   "name": "python",
   "nbconvert_exporter": "python",
   "pygments_lexer": "ipython3",
   "version": "3.10.9"
  }
 },
 "nbformat": 4,
 "nbformat_minor": 5
}
