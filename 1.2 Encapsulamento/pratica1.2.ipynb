{
 "cells": [
  {
   "cell_type": "markdown",
   "id": "3e14d173",
   "metadata": {},
   "source": [
    "## Prática 1.2 - Classe `CartaoTransporte`\n",
    "\n",
    "Imagine um cartão utilizado em transportes públicos (ônibus, trem, metrô, etc.),\n",
    "como por exemplo o NatalCard.\n",
    "\n",
    "Nesta atividade prática, você deve implementar a classe `CartaoTransporte`, que irá representar\n",
    "um destes cartões.\n",
    "Todo `CartaoTransporte` possui um `codigo` e um número que indica a quantidade\n",
    "de `viagens` presente no cartão. Estes atributos devem estar **encapsulados**, ou seja,\n",
    "deve ser permitido obter o valor de ambos fora da classe. Entretanto, apenas o atributo\n",
    "`codigo` deve permitir atribuição de um novo valor a este atributo.\n",
    "\n",
    "Além disso, deve ser possível:\n",
    "\n",
    "- No `setter` para o código, checar se o código atribuído a um `CartaoTransporte` é do tipo `int` e informar uma mensagem caso não seja\n",
    "- Método `carrega`: efetuar o carregamento de uma quantidade de viagens passada como parâmetro\n",
    "  no cartão. Uma mensagem deve ser impressa se o número de viagens passado como parâmetro for\n",
    "  uma quantidade inválida (menor ou igual a 0)\n",
    "- Método `usa`: usar uma viagem presente no cartão. Uma mensagem deve ser impressa se não houver\n",
    "  viagens suficientes presentes no cartão\n",
    "\n",
    "Faça uso de decoradores Python e utilize o código a seguir para testar o seu programa e observe a saída esperada."
   ]
  },
  {
   "cell_type": "code",
   "execution_count": null,
   "id": "d524592c",
   "metadata": {},
   "outputs": [],
   "source": [
    "class CartaoTransporte:\n",
    "\n",
    "    # Insira o seu código aqui\n",
    "\n",
    "def main():\n",
    "\n",
    "    c1 = CartaoTransporte()\n",
    "    \n",
    "    c1.codigo = 23.5\n",
    "    print(c1)\n",
    "    c1.codigo = 1553\n",
    "    print(c1)\n",
    "\n",
    "    c1.carrega(-5)\n",
    "    c1.carrega(3)\n",
    "    print(c1)\n",
    "\n",
    "    c1.usa()\n",
    "    c1.usa()\n",
    "    c1.usa()\n",
    "    c1.usa()\n",
    "\n",
    "    c1.carrega(5)\n",
    "    print(f'Dados do cartão - Código: {c1.codigo}, viagens: {c1.viagens}')\n",
    "\n",
    "if __name__ == '__main__':\n",
    "    main()"
   ]
  },
  {
   "cell_type": "markdown",
   "id": "4c61a768",
   "metadata": {},
   "source": [
    "Saída esperada:\n",
    "\n",
    "```\n",
    "O código precisa ser um nr. inteiro\n",
    "Código: 0, viagens: 0\n",
    "Código: 1553, viagens: 0\n",
    "Carregamento inválido: nr. de viagens precisa ser maior que 0\n",
    "Carregamento confirmado. Viagens: 3\n",
    "Código: 1553, viagens: 3\n",
    "Boa viagem. Viagens: 2\n",
    "Boa viagem. Viagens: 1\n",
    "Boa viagem. Viagens: 0\n",
    "Cartão sem viagens disponíveis.\n",
    "Carregamento confirmado. Viagens: 5\n",
    "Dados do cartão - Código: 1553, viagens: 5\n",
    "```"
   ]
  },
  {
   "cell_type": "code",
   "execution_count": null,
   "id": "2bfc59a3",
   "metadata": {},
   "outputs": [],
   "source": []
  }
 ],
 "metadata": {
  "kernelspec": {
   "display_name": "Python 3 (ipykernel)",
   "language": "python",
   "name": "python3"
  },
  "language_info": {
   "codemirror_mode": {
    "name": "ipython",
    "version": 3
   },
   "file_extension": ".py",
   "mimetype": "text/x-python",
   "name": "python",
   "nbconvert_exporter": "python",
   "pygments_lexer": "ipython3",
   "version": "3.10.9"
  }
 },
 "nbformat": 4,
 "nbformat_minor": 5
}
